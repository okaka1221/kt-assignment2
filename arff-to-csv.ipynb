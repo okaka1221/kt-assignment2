{
 "cells": [
  {
   "cell_type": "code",
   "execution_count": null,
   "metadata": {},
   "outputs": [],
   "source": [
    "import os\n",
    "\n",
    "input_dir = '../data/ARFF'\n",
    "output_dir = './data/ARFF'\n",
    "files = [input_dir + '/' + file for file in os.listdir(input_dir) if file.endswith(\".arff\")]\n",
    "\n",
    "def arff_to_csv(lines):\n",
    "    is_header = True\n",
    "    header = \"\"\n",
    "    csv_data = []\n",
    "    \n",
    "    for line in lines:\n",
    "        if is_header:\n",
    "            if '@ATTRIBUTE' in line:\n",
    "                attribute = line.split()\n",
    "                col_name = attribute[attribute.index('@ATTRIBUTE') + 1]\n",
    "                header = header + col_name + ','\n",
    "            elif '@DATA' in line:\n",
    "                is_header = False                                    \n",
    "                header = header[:-1] + '\\n'\n",
    "                csv_data.append(header)\n",
    "        else:\n",
    "            csv_data.append(line)\n",
    "            \n",
    "    return csv_data\n",
    "    \n",
    "for file in files:\n",
    "    with open(file, 'r') as in_file:\n",
    "        lines = in_file.readlines()\n",
    "        file_name = os.path.splitext(in_file.name)[0].split('/')[-1]\n",
    "        data = arff_to_csv(lines)\n",
    "        with open(output_dir + '/' + file_name + '.csv', 'w') as out_file:\n",
    "            out_file.writelines(data)"
   ]
  }
 ],
 "metadata": {
  "kernelspec": {
   "display_name": "Python 3",
   "language": "python",
   "name": "python3"
  },
  "language_info": {
   "codemirror_mode": {
    "name": "ipython",
    "version": 3
   },
   "file_extension": ".py",
   "mimetype": "text/x-python",
   "name": "python",
   "nbconvert_exporter": "python",
   "pygments_lexer": "ipython3",
   "version": "3.7.3"
  }
 },
 "nbformat": 4,
 "nbformat_minor": 2
}
