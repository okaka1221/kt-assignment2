{
 "cells": [
  {
   "cell_type": "code",
   "execution_count": 1,
   "metadata": {},
   "outputs": [],
   "source": [
    "import numpy as np\n",
    "import pandas as pd\n",
    "pd.set_option('display.max_columns', None)\n",
    "import matplotlib.pyplot as plt\n",
    "%matplotlib inline\n",
    "import seaborn as sns\n",
    "import warnings\n",
    "warnings.filterwarnings('ignore')\n",
    "\n",
    "from sklearn.metrics import accuracy_score"
   ]
  },
  {
   "cell_type": "code",
   "execution_count": 2,
   "metadata": {},
   "outputs": [],
   "source": [
    "train = pd.read_csv('./data/BEST&MOST200/train-best200.csv')\n",
    "dev = pd.read_csv('./data/BEST&MOST200/dev-best200.csv')\n",
    "test = pd.read_csv('./data/BEST&MOST200/test-best200.csv')\n",
    "train = pd.concat([train, dev], axis=0)"
   ]
  },
  {
   "cell_type": "code",
   "execution_count": 3,
   "metadata": {},
   "outputs": [
    {
     "name": "stdout",
     "output_type": "stream",
     "text": [
      "0.8453446441012763\n"
     ]
    }
   ],
   "source": [
    "lgbm_val = pd.read_csv('./result-per-user/lgbm-val.csv')\n",
    "lgbm_sub = pd.read_csv('./result-per-user/lgbm-sub.csv')\n",
    "\n",
    "validation = pd.merge(train, lgbm_val, on='user-id', how='left')\n",
    "print(accuracy_score(train['class'], validation['prediction']))\n",
    " \n",
    "submission = pd.merge(test[['tweet-id', 'user-id']], lgbm_sub[['user-id', 'prediction']], on='user-id', how='left')\n",
    "submission = submission.rename(columns={'prediction': 'class'})\n",
    "submission = submission.drop(['user-id'], axis=1)\n",
    "submission.to_csv('./submission/lgbm.csv', index=False)"
   ]
  },
  {
   "cell_type": "code",
   "execution_count": 4,
   "metadata": {},
   "outputs": [
    {
     "name": "stdout",
     "output_type": "stream",
     "text": [
      "0.8322372198785726\n"
     ]
    }
   ],
   "source": [
    "lgbm_remove_stopwords_sub = pd.read_csv('./result-per-user/lgbm-remove-stopwords-sub.csv')\n",
    "lgbm_remove_stopwords_val = pd.read_csv('./result-per-user/lgbm-remove-stopwords-val.csv')\n",
    "\n",
    "validation = pd.merge(train, lgbm_remove_stopwords_val, on='user-id', how='left')\n",
    "print(accuracy_score(train['class'], validation['prediction']))\n",
    "\n",
    "submission = pd.merge(test[['tweet-id', 'user-id']], lgbm_remove_stopwords_sub[['user-id', 'prediction']], on='user-id', how='left')\n",
    "submission = submission.rename(columns={'prediction': 'class'})\n",
    "submission = submission.drop(['user-id'], axis=1) \n",
    "submission.to_csv('./submission/lgbm-remove-stopwords.csv', index=False)"
   ]
  },
  {
   "cell_type": "code",
   "execution_count": 5,
   "metadata": {},
   "outputs": [
    {
     "name": "stdout",
     "output_type": "stream",
     "text": [
      "0.8732362016032095\n"
     ]
    }
   ],
   "source": [
    "cnn_val = pd.read_csv('./result-per-user/cnn-val.csv')\n",
    "cnn_sub = pd.read_csv('./result-per-user/cnn-sub.csv')\n",
    "\n",
    "validation = pd.merge(train, cnn_val, on='user-id', how='left')\n",
    "print(accuracy_score(train['class'], validation['prediction']))\n",
    "\n",
    "submission = pd.merge(test[['tweet-id', 'user-id']], cnn_sub[['user-id', 'prediction']], on='user-id', how='left')\n",
    "submission = submission.rename(columns={'prediction': 'class'})\n",
    "submission = submission.drop(['user-id'], axis=1) \n",
    "submission.to_csv('./submission/cnn.csv', index=False)"
   ]
  },
  {
   "cell_type": "code",
   "execution_count": 6,
   "metadata": {},
   "outputs": [
    {
     "name": "stdout",
     "output_type": "stream",
     "text": [
      "0.8671188932188986\n"
     ]
    }
   ],
   "source": [
    "cnn_remove_stopwords_sub = pd.read_csv('./result-per-user/cnn-remove-stopwords-sub.csv')\n",
    "cnn_remove_stopwords_val = pd.read_csv('./result-per-user/cnn-remove-stopwords-val.csv')\n",
    "\n",
    "validation = pd.merge(train, cnn_remove_stopwords_val, on='user-id', how='left')\n",
    "print(accuracy_score(train['class'], validation['prediction']))\n",
    "\n",
    "submission = pd.merge(test[['tweet-id', 'user-id']], cnn_remove_stopwords_sub[['user-id', 'prediction']], on='user-id', how='left')\n",
    "submission = submission.rename(columns={'prediction': 'class'})\n",
    "submission = submission.drop(['user-id'], axis=1) \n",
    "submission.to_csv('./submission/cnn-remove-stopwords.csv', index=False)"
   ]
  },
  {
   "cell_type": "code",
   "execution_count": 7,
   "metadata": {},
   "outputs": [
    {
     "name": "stdout",
     "output_type": "stream",
     "text": [
      "0.8532458484224388\n"
     ]
    }
   ],
   "source": [
    "N = 4000\n",
    "lgbm_bestN_val = pd.read_csv(f'./result-per-user/lgbm-best{N}-val.csv')\n",
    "lgbm_bestN_sub = pd.read_csv(f'./result-per-user/lgbm-best{N}-sub.csv')\n",
    "\n",
    "validation = pd.merge(train, lgbm_bestN_val, on='user-id', how='left')\n",
    "print(accuracy_score(train['class'], validation['prediction']))\n",
    "\n",
    "submission = pd.merge(test[['tweet-id', 'user-id']], lgbm_bestN_sub[['user-id', 'prediction']], on='user-id', how='left')\n",
    "submission = submission.rename(columns={'prediction': 'class'})\n",
    "submission = submission.drop(['user-id'], axis=1) \n",
    "submission.to_csv(f'./submission/lgbm-best{N}.csv', index=False)"
   ]
  },
  {
   "cell_type": "code",
   "execution_count": 8,
   "metadata": {},
   "outputs": [
    {
     "name": "stdout",
     "output_type": "stream",
     "text": [
      "0.8875609625381853\n"
     ]
    }
   ],
   "source": [
    "N = 4000\n",
    "cnn_bestN_val = pd.read_csv(f'./result-per-user/cnn-best{N}-val.csv')\n",
    "cnn_bestN_sub = pd.read_csv(f'./result-per-user/cnn-best{N}-sub.csv')\n",
    "\n",
    "validation = pd.merge(train, cnn_bestN_val, on='user-id', how='left')\n",
    "print(accuracy_score(train['class'], validation['prediction']))\n",
    "\n",
    "submission = pd.merge(test[['tweet-id', 'user-id']], cnn_bestN_sub[['user-id', 'prediction']], on='user-id', how='left')\n",
    "submission = submission.rename(columns={'prediction': 'class'})\n",
    "submission = submission.drop(['user-id'], axis=1)\n",
    "submission.to_csv(f'./submission/cnn-best{N}.csv', index=False)"
   ]
  },
  {
   "cell_type": "code",
   "execution_count": 9,
   "metadata": {},
   "outputs": [
    {
     "name": "stdout",
     "output_type": "stream",
     "text": [
      "0.849547901051197\n"
     ]
    }
   ],
   "source": [
    "N = 3000\n",
    "lgbm_bestN_val = pd.read_csv(f'./result-per-user/lgbm-best{N}-val.csv')\n",
    "lgbm_bestN_sub = pd.read_csv(f'./result-per-user/lgbm-best{N}-sub.csv')\n",
    "\n",
    "validation = pd.merge(train, lgbm_bestN_val, on='user-id', how='left')\n",
    "print(accuracy_score(train['class'], validation['prediction']))\n",
    "\n",
    "submission = pd.merge(test[['tweet-id', 'user-id']], lgbm_bestN_sub[['user-id', 'prediction']], on='user-id', how='left')\n",
    "submission = submission.rename(columns={'prediction': 'class'})\n",
    "submission = submission.drop(['user-id'], axis=1) \n",
    "submission.to_csv(f'./submission/lgbm-best{N}.csv', index=False)"
   ]
  },
  {
   "cell_type": "code",
   "execution_count": 10,
   "metadata": {},
   "outputs": [
    {
     "name": "stdout",
     "output_type": "stream",
     "text": [
      "0.8870403405480312\n"
     ]
    }
   ],
   "source": [
    "N = 3000\n",
    "cnn_bestN_val = pd.read_csv(f'./result-per-user/cnn-best{N}-val.csv')\n",
    "cnn_bestN_sub = pd.read_csv(f'./result-per-user/cnn-best{N}-sub.csv')\n",
    "\n",
    "validation = pd.merge(train, cnn_bestN_val, on='user-id', how='left')\n",
    "print(accuracy_score(train['class'], validation['prediction']))\n",
    "\n",
    "submission = pd.merge(test[['tweet-id', 'user-id']], cnn_bestN_sub[['user-id', 'prediction']], on='user-id', how='left')\n",
    "submission = submission.rename(columns={'prediction': 'class'})\n",
    "submission = submission.drop(['user-id'], axis=1)\n",
    "submission.to_csv(f'./submission/cnn-best{N}.csv', index=False)"
   ]
  },
  {
   "cell_type": "code",
   "execution_count": 11,
   "metadata": {},
   "outputs": [
    {
     "name": "stdout",
     "output_type": "stream",
     "text": [
      "0.8495632134626722\n"
     ]
    }
   ],
   "source": [
    "N = 2500\n",
    "lgbm_bestN_val = pd.read_csv(f'./result-per-user/lgbm-best{N}-val.csv')\n",
    "lgbm_bestN_sub = pd.read_csv(f'./result-per-user/lgbm-best{N}-sub.csv')\n",
    "\n",
    "validation = pd.merge(train, lgbm_bestN_val, on='user-id', how='left')\n",
    "print(accuracy_score(train['class'], validation['prediction']))\n",
    "\n",
    "submission = pd.merge(test[['tweet-id', 'user-id']], lgbm_bestN_sub[['user-id', 'prediction']], on='user-id', how='left')\n",
    "submission = submission.rename(columns={'prediction': 'class'})\n",
    "submission = submission.drop(['user-id'], axis=1) \n",
    "submission.to_csv(f'./submission/lgbm-best{N}.csv', index=False)"
   ]
  },
  {
   "cell_type": "code",
   "execution_count": 12,
   "metadata": {},
   "outputs": [
    {
     "name": "stdout",
     "output_type": "stream",
     "text": [
      "0.8847205102095503\n"
     ]
    }
   ],
   "source": [
    "N = 2500\n",
    "cnn_bestN_val = pd.read_csv(f'./result-per-user/cnn-best{N}-val.csv')\n",
    "cnn_bestN_sub = pd.read_csv(f'./result-per-user/cnn-best{N}-sub.csv')\n",
    "\n",
    "validation = pd.merge(train, cnn_bestN_val, on='user-id', how='left')\n",
    "print(accuracy_score(train['class'], validation['prediction']))\n",
    "\n",
    "submission = pd.merge(test[['tweet-id', 'user-id']], cnn_bestN_sub[['user-id', 'prediction']], on='user-id', how='left')\n",
    "submission = submission.rename(columns={'prediction': 'class'})\n",
    "submission = submission.drop(['user-id'], axis=1)\n",
    "submission.to_csv(f'./submission/cnn-best{N}.csv', index=False)"
   ]
  },
  {
   "cell_type": "code",
   "execution_count": 13,
   "metadata": {},
   "outputs": [
    {
     "name": "stdout",
     "output_type": "stream",
     "text": [
      "0.8514849211027998\n"
     ]
    }
   ],
   "source": [
    "N = 2000\n",
    "lgbm_bestN_val = pd.read_csv(f'./result-per-user/lgbm-best{N}-val.csv')\n",
    "lgbm_bestN_sub = pd.read_csv(f'./result-per-user/lgbm-best{N}-sub.csv')\n",
    "\n",
    "validation = pd.merge(train, lgbm_bestN_val, on='user-id', how='left')\n",
    "print(accuracy_score(train['class'], validation['prediction']))\n",
    "\n",
    "submission = pd.merge(test[['tweet-id', 'user-id']], lgbm_bestN_sub[['user-id', 'prediction']], on='user-id', how='left')\n",
    "submission = submission.rename(columns={'prediction': 'class'})\n",
    "submission = submission.drop(['user-id'], axis=1) \n",
    "submission.to_csv(f'./submission/lgbm-best{N}.csv', index=False)"
   ]
  },
  {
   "cell_type": "code",
   "execution_count": 14,
   "metadata": {},
   "outputs": [
    {
     "name": "stdout",
     "output_type": "stream",
     "text": [
      "0.8821097440530422\n"
     ]
    }
   ],
   "source": [
    "N = 2000\n",
    "cnn_bestN_val = pd.read_csv(f'./result-per-user/cnn-best{N}-val.csv')\n",
    "cnn_bestN_sub = pd.read_csv(f'./result-per-user/cnn-best{N}-sub.csv')\n",
    "\n",
    "validation = pd.merge(train, cnn_bestN_val, on='user-id', how='left')\n",
    "print(accuracy_score(train['class'], validation['prediction']))\n",
    "\n",
    "submission = pd.merge(test[['tweet-id', 'user-id']], cnn_bestN_sub[['user-id', 'prediction']], on='user-id', how='left')\n",
    "submission = submission.rename(columns={'prediction': 'class'})\n",
    "submission = submission.drop(['user-id'], axis=1)\n",
    "submission.to_csv(f'./submission/cnn-best{N}.csv', index=False)"
   ]
  },
  {
   "cell_type": "code",
   "execution_count": 15,
   "metadata": {},
   "outputs": [
    {
     "name": "stdout",
     "output_type": "stream",
     "text": [
      "0.8553972422346934\n"
     ]
    }
   ],
   "source": [
    "N = 1500\n",
    "lgbm_bestN_val = pd.read_csv(f'./result-per-user/lgbm-best{N}-val.csv')\n",
    "lgbm_bestN_sub = pd.read_csv(f'./result-per-user/lgbm-best{N}-sub.csv')\n",
    "\n",
    "validation = pd.merge(train, lgbm_bestN_val, on='user-id', how='left')\n",
    "print(accuracy_score(train['class'], validation['prediction']))\n",
    "\n",
    "submission = pd.merge(test[['tweet-id', 'user-id']], lgbm_bestN_sub[['user-id', 'prediction']], on='user-id', how='left')\n",
    "submission = submission.rename(columns={'prediction': 'class'})\n",
    "submission = submission.drop(['user-id'], axis=1) \n",
    "submission.to_csv(f'./submission/lgbm-best{N}.csv', index=False)"
   ]
  },
  {
   "cell_type": "code",
   "execution_count": 16,
   "metadata": {},
   "outputs": [
    {
     "name": "stdout",
     "output_type": "stream",
     "text": [
      "0.8770489920605147\n"
     ]
    }
   ],
   "source": [
    "N = 1500\n",
    "cnn_bestN_val = pd.read_csv(f'./result-per-user/cnn-best{N}-val.csv')\n",
    "cnn_bestN_sub = pd.read_csv(f'./result-per-user/cnn-best{N}-sub.csv')\n",
    "\n",
    "validation = pd.merge(train, cnn_bestN_val, on='user-id', how='left')\n",
    "print(accuracy_score(train['class'], validation['prediction']))\n",
    "\n",
    "submission = pd.merge(test[['tweet-id', 'user-id']], cnn_bestN_sub[['user-id', 'prediction']], on='user-id', how='left')\n",
    "submission = submission.rename(columns={'prediction': 'class'})\n",
    "submission = submission.drop(['user-id'], axis=1)\n",
    "submission.to_csv(f'./submission/cnn-best{N}.csv', index=False)"
   ]
  },
  {
   "cell_type": "code",
   "execution_count": 17,
   "metadata": {},
   "outputs": [
    {
     "name": "stdout",
     "output_type": "stream",
     "text": [
      "0.8544555289289734\n"
     ]
    }
   ],
   "source": [
    "N = 1000\n",
    "lgbm_bestN_val = pd.read_csv(f'./result-per-user/lgbm-best{N}-val.csv')\n",
    "lgbm_bestN_sub = pd.read_csv(f'./result-per-user/lgbm-best{N}-sub.csv')\n",
    "\n",
    "validation = pd.merge(train, lgbm_bestN_val, on='user-id', how='left')\n",
    "print(accuracy_score(train['class'], validation['prediction']))\n",
    "\n",
    "submission = pd.merge(test[['tweet-id', 'user-id']], lgbm_bestN_sub[['user-id', 'prediction']], on='user-id', how='left')\n",
    "submission = submission.rename(columns={'prediction': 'class'})\n",
    "submission = submission.drop(['user-id'], axis=1) \n",
    "submission.to_csv(f'./submission/lgbm-best{N}.csv', index=False)"
   ]
  },
  {
   "cell_type": "code",
   "execution_count": 18,
   "metadata": {},
   "outputs": [
    {
     "name": "stdout",
     "output_type": "stream",
     "text": [
      "0.8704493427147374\n"
     ]
    }
   ],
   "source": [
    "N = 1000\n",
    "cnn_bestN_val = pd.read_csv(f'./result-per-user/cnn-best{N}-val.csv')\n",
    "cnn_bestN_sub = pd.read_csv(f'./result-per-user/cnn-best{N}-sub.csv')\n",
    "\n",
    "validation = pd.merge(train, cnn_bestN_val, on='user-id', how='left')\n",
    "print(accuracy_score(train['class'], validation['prediction']))\n",
    "\n",
    "submission = pd.merge(test[['tweet-id', 'user-id']], cnn_bestN_sub[['user-id', 'prediction']], on='user-id', how='left')\n",
    "submission = submission.rename(columns={'prediction': 'class'})\n",
    "submission = submission.drop(['user-id'], axis=1)\n",
    "submission.to_csv(f'./submission/cnn-best{N}.csv', index=False)"
   ]
  },
  {
   "cell_type": "code",
   "execution_count": 19,
   "metadata": {},
   "outputs": [
    {
     "name": "stdout",
     "output_type": "stream",
     "text": [
      "0.8508341436151072\n"
     ]
    }
   ],
   "source": [
    "N = 800\n",
    "lgbm_bestN_val = pd.read_csv(f'./result-per-user/lgbm-best{N}-val.csv')\n",
    "lgbm_bestN_sub = pd.read_csv(f'./result-per-user/lgbm-best{N}-sub.csv')\n",
    "\n",
    "validation = pd.merge(train, lgbm_bestN_val, on='user-id', how='left')\n",
    "print(accuracy_score(train['class'], validation['prediction']))\n",
    "\n",
    "submission = pd.merge(test[['tweet-id', 'user-id']], lgbm_bestN_sub[['user-id', 'prediction']], on='user-id', how='left')\n",
    "submission = submission.rename(columns={'prediction': 'class'})\n",
    "submission = submission.drop(['user-id'], axis=1) \n",
    "submission.to_csv(f'./submission/lgbm-best{N}.csv', index=False)"
   ]
  },
  {
   "cell_type": "code",
   "execution_count": 20,
   "metadata": {},
   "outputs": [
    {
     "name": "stdout",
     "output_type": "stream",
     "text": [
      "0.8645234394738656\n"
     ]
    }
   ],
   "source": [
    "N = 800\n",
    "cnn_bestN_val = pd.read_csv(f'./result-per-user/cnn-best{N}-val.csv')\n",
    "cnn_bestN_sub = pd.read_csv(f'./result-per-user/cnn-best{N}-sub.csv')\n",
    "\n",
    "validation = pd.merge(train, cnn_bestN_val, on='user-id', how='left')\n",
    "print(accuracy_score(train['class'], validation['prediction']))\n",
    "\n",
    "submission = pd.merge(test[['tweet-id', 'user-id']], cnn_bestN_sub[['user-id', 'prediction']], on='user-id', how='left')\n",
    "submission = submission.rename(columns={'prediction': 'class'})\n",
    "submission = submission.drop(['user-id'], axis=1)\n",
    "submission.to_csv(f'./submission/cnn-best{N}.csv', index=False)"
   ]
  },
  {
   "cell_type": "code",
   "execution_count": 21,
   "metadata": {
    "scrolled": true
   },
   "outputs": [
    {
     "name": "stdout",
     "output_type": "stream",
     "text": [
      "0.8452374572209504\n"
     ]
    }
   ],
   "source": [
    "N = 500\n",
    "lgbm_bestN_val = pd.read_csv(f'./result-per-user/lgbm-best{N}-val.csv')\n",
    "lgbm_bestN_sub = pd.read_csv(f'./result-per-user/lgbm-best{N}-sub.csv')\n",
    "\n",
    "validation = pd.merge(train, lgbm_bestN_val, on='user-id', how='left')\n",
    "print(accuracy_score(train['class'], validation['prediction']))\n",
    "\n",
    "submission = pd.merge(test[['tweet-id', 'user-id']], lgbm_bestN_sub[['user-id', 'prediction']], on='user-id', how='left')\n",
    "submission = submission.rename(columns={'prediction': 'class'})\n",
    "submission = submission.drop(['user-id'], axis=1) \n",
    "submission.to_csv(f'./submission/lgbm-best{N}.csv', index=False)"
   ]
  },
  {
   "cell_type": "code",
   "execution_count": 22,
   "metadata": {},
   "outputs": [
    {
     "name": "stdout",
     "output_type": "stream",
     "text": [
      "0.8523424161454066\n"
     ]
    }
   ],
   "source": [
    "N = 500\n",
    "cnn_bestN_val = pd.read_csv(f'./result-per-user/cnn-best{N}-val.csv')\n",
    "cnn_bestN_sub = pd.read_csv(f'./result-per-user/cnn-best{N}-sub.csv')\n",
    "\n",
    "validation = pd.merge(train, cnn_bestN_val, on='user-id', how='left')\n",
    "print(accuracy_score(train['class'], validation['prediction']))\n",
    "\n",
    "submission = pd.merge(test[['tweet-id', 'user-id']], cnn_bestN_sub[['user-id', 'prediction']], on='user-id', how='left')\n",
    "submission = submission.rename(columns={'prediction': 'class'})\n",
    "submission = submission.drop(['user-id'], axis=1)\n",
    "submission.to_csv(f'./submission/cnn-best{N}.csv', index=False)"
   ]
  },
  {
   "cell_type": "code",
   "execution_count": 23,
   "metadata": {},
   "outputs": [
    {
     "name": "stdout",
     "output_type": "stream",
     "text": [
      "0.8439818394799905\n"
     ]
    }
   ],
   "source": [
    "N = 300\n",
    "lgbm_bestN_val = pd.read_csv(f'./result-per-user/lgbm-best{N}-val.csv')\n",
    "lgbm_bestN_sub = pd.read_csv(f'./result-per-user/lgbm-best{N}-sub.csv')\n",
    "\n",
    "validation = pd.merge(train, lgbm_bestN_val, on='user-id', how='left')\n",
    "print(accuracy_score(train['class'], validation['prediction']))\n",
    " \n",
    "submission = pd.merge(test[['tweet-id', 'user-id']], lgbm_bestN_sub[['user-id', 'prediction']], on='user-id', how='left')\n",
    "submission = submission.rename(columns={'prediction': 'class'})\n",
    "submission = submission.drop(['user-id'], axis=1) \n",
    "submission.to_csv(f'./submission/lgbm-best{N}.csv', index=False)"
   ]
  },
  {
   "cell_type": "code",
   "execution_count": 24,
   "metadata": {},
   "outputs": [
    {
     "name": "stdout",
     "output_type": "stream",
     "text": [
      "0.849792899634799\n"
     ]
    }
   ],
   "source": [
    "N = 300\n",
    "cnn_bestN_val = pd.read_csv(f'./result-per-user/cnn-best{N}-val.csv')\n",
    "cnn_bestN_sub = pd.read_csv(f'./result-per-user/cnn-best{N}-sub.csv')\n",
    "\n",
    "validation = pd.merge(train, cnn_bestN_val, on='user-id', how='left')\n",
    "print(accuracy_score(train['class'], validation['prediction']))\n",
    "\n",
    "submission = pd.merge(test[['tweet-id', 'user-id']], cnn_bestN_sub[['user-id', 'prediction']], on='user-id', how='left')\n",
    "submission = submission.rename(columns={'prediction': 'class'})\n",
    "submission = submission.drop(['user-id'], axis=1)\n",
    "submission.to_csv(f'./submission/cnn-best{N}.csv', index=False)"
   ]
  },
  {
   "cell_type": "code",
   "execution_count": 25,
   "metadata": {},
   "outputs": [
    {
     "name": "stdout",
     "output_type": "stream",
     "text": [
      "0.8365553199145568\n"
     ]
    }
   ],
   "source": [
    "N = 200\n",
    "lgbm_bestN_val = pd.read_csv(f'./result-per-user/lgbm-best{N}-val.csv')\n",
    "lgbm_bestN_sub = pd.read_csv(f'./result-per-user/lgbm-best{N}-sub.csv')\n",
    "\n",
    "validation = pd.merge(train, lgbm_bestN_val, on='user-id', how='left')\n",
    "print(accuracy_score(train['class'], validation['prediction']))\n",
    " \n",
    "submission = pd.merge(test[['tweet-id', 'user-id']], lgbm_bestN_sub[['user-id', 'prediction']], on='user-id', how='left')\n",
    "submission = submission.rename(columns={'prediction': 'class'})\n",
    "submission = submission.drop(['user-id'], axis=1) \n",
    "submission.to_csv(f'./submission/lgbm-best{N}.csv', index=False)"
   ]
  },
  {
   "cell_type": "code",
   "execution_count": 26,
   "metadata": {},
   "outputs": [
    {
     "name": "stdout",
     "output_type": "stream",
     "text": [
      "0.8392579605399156\n"
     ]
    }
   ],
   "source": [
    "N = 200\n",
    "cnn_bestN_val = pd.read_csv(f'./result-per-user/cnn-best{N}-val.csv')\n",
    "cnn_bestN_sub = pd.read_csv(f'./result-per-user/cnn-best{N}-sub.csv')\n",
    "\n",
    "validation = pd.merge(train, cnn_bestN_val, on='user-id', how='left')\n",
    "print(accuracy_score(train['class'], validation['prediction']))\n",
    "\n",
    "submission = pd.merge(test[['tweet-id', 'user-id']], cnn_bestN_sub[['user-id', 'prediction']], on='user-id', how='left')\n",
    "submission = submission.rename(columns={'prediction': 'class'})\n",
    "submission = submission.drop(['user-id'], axis=1)\n",
    "submission.to_csv(f'./submission/cnn-best{N}.csv', index=False)"
   ]
  }
 ],
 "metadata": {
  "kernelspec": {
   "display_name": "Python 3",
   "language": "python",
   "name": "python3"
  },
  "language_info": {
   "codemirror_mode": {
    "name": "ipython",
    "version": 3
   },
   "file_extension": ".py",
   "mimetype": "text/x-python",
   "name": "python",
   "nbconvert_exporter": "python",
   "pygments_lexer": "ipython3",
   "version": "3.7.3"
  }
 },
 "nbformat": 4,
 "nbformat_minor": 2
}
