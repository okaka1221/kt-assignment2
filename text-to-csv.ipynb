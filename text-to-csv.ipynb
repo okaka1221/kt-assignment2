{
 "cells": [
  {
   "cell_type": "code",
   "execution_count": 1,
   "metadata": {},
   "outputs": [],
   "source": [
    "import pandas as pd\n",
    "import numpy as np\n",
    "import matplotlib.pyplot as plt\n",
    "%matplotlib inline"
   ]
  },
  {
   "cell_type": "code",
   "execution_count": 2,
   "metadata": {},
   "outputs": [],
   "source": [
    "files = ['dev_tweets', 'train_tweets', 'test_tweets']"
   ]
  },
  {
   "cell_type": "code",
   "execution_count": 3,
   "metadata": {},
   "outputs": [],
   "source": [
    "for file in files:\n",
    "    data = []\n",
    "    \n",
    "    with open('./tweets/' + file + '.txt', 'r', errors='ignore') as f:\n",
    "        for line in f:\n",
    "            items = line.split(',')\n",
    "            \n",
    "            if file == 'test_tweets':\n",
    "                data.append([items[0],items[1],','.join(items[2:-1])[1:-1]])\n",
    "            else:\n",
    "                data.append([items[0],items[1],','.join(items[2:-1])[1:-1],items[-1][:-1]])\n",
    "    \n",
    "    if file == 'test_tweets':\n",
    "        df = pd.DataFrame(data, columns=['tweet-id', 'user-id', 'tweet'])\n",
    "    else:\n",
    "        df = pd.DataFrame(data, columns=['tweet-id', 'user-id', 'tweet', 'class'])\n",
    "    \n",
    "    df.to_csv('./data/' + file + '.csv', index=False)"
   ]
  },
  {
   "cell_type": "code",
   "execution_count": 4,
   "metadata": {},
   "outputs": [],
   "source": [
    "dev = pd.read_csv('./data/dev_tweets.csv')\n",
    "train = pd.read_csv('./data/train_tweets.csv')\n",
    "test = pd.read_csv('./data/test_tweets.csv')\n",
    "\n",
    "merged = pd.concat([dev, train], axis=0)\n",
    "merged.to_csv('./data/train.csv', index=False)\n",
    "test.to_csv('./data/test.csv', index=False)"
   ]
  }
 ],
 "metadata": {
  "kernelspec": {
   "display_name": "Python 3",
   "language": "python",
   "name": "python3"
  },
  "language_info": {
   "codemirror_mode": {
    "name": "ipython",
    "version": 3
   },
   "file_extension": ".py",
   "mimetype": "text/x-python",
   "name": "python",
   "nbconvert_exporter": "python",
   "pygments_lexer": "ipython3",
   "version": "3.7.3"
  }
 },
 "nbformat": 4,
 "nbformat_minor": 2
}
